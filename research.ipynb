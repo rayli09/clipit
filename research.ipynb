{
 "cells": [
  {
   "cell_type": "code",
   "execution_count": null,
   "metadata": {},
   "outputs": [
    {
     "name": "stderr",
     "output_type": "stream",
     "text": [
      "Device set to use cuda:0\n",
      "/home/ruizeli/dev/clipit/.venv/lib/python3.9/site-packages/transformers/models/whisper/generation_whisper.py:573: FutureWarning: The input name `inputs` is deprecated. Please make sure to use `input_features` instead.\n",
      "  warnings.warn(\n",
      "Due to a bug fix in https://github.com/huggingface/transformers/pull/28687 transcription using a multilingual Whisper will default to language detection followed by transcription instead of translation to English.This might be a breaking change for your use case. If you want to instead always translate your audio to English, make sure to pass `language='en'`.\n",
      "Passing a tuple of `past_key_values` is deprecated and will be removed in Transformers v4.43.0. You should pass an instance of `EncoderDecoderCache` instead, e.g. `past_key_values=EncoderDecoderCache.from_legacy_cache(past_key_values)`.\n",
      "The attention mask is not set and cannot be inferred from input because pad token is same as eos token. As a consequence, you may observe unexpected behavior. Please pass your input's `attention_mask` to obtain reliable results.\n"
     ]
    }
   ],
   "source": [
    "import torch\n",
    "from transformers import pipeline\n",
    "from transformers.utils import is_flash_attn_2_available\n",
    "\n",
    "\n",
    "def transcribe_v2():\n",
    "    pipe = pipeline(\n",
    "        \"automatic-speech-recognition\",\n",
    "        model=\"openai/whisper-large-v3-turbo\",  # select checkpoint from https://huggingface.co/openai/whisper-large-v3#model-details\n",
    "        torch_dtype=torch.float16,\n",
    "        device=\"cuda:0\",  # or mps for Mac devices\n",
    "        model_kwargs={\"attn_implementation\": \"flash_attention_2\"}\n",
    "        if is_flash_attn_2_available()\n",
    "        else {\"attn_implementation\": \"sdpa\"},\n",
    "    )\n",
    "    outputs = pipe(\n",
    "        \"videos/index_arb.mp3\",\n",
    "        chunk_length_s=30,\n",
    "        batch_size=24,\n",
    "        return_timestamps=True,\n",
    "    )\n",
    "    # outputs has text, chunks\n",
    "    # chunks is list of item, each has text, timestamp\n",
    "    # {'timestamp': (1188.0, 1193.0), 'text': '因为当然就是虽然是我们的book size很小'},"
   ]
  },
  {
   "cell_type": "code",
   "execution_count": 8,
   "metadata": {},
   "outputs": [
    {
     "name": "stderr",
     "output_type": "stream",
     "text": [
      "/home/ruizeli/dev/clipit/.venv/lib/python3.9/site-packages/whisper/__init__.py:150: FutureWarning: You are using `torch.load` with `weights_only=False` (the current default value), which uses the default pickle module implicitly. It is possible to construct malicious pickle data which will execute arbitrary code during unpickling (See https://github.com/pytorch/pytorch/blob/main/SECURITY.md#untrusted-models for more details). In a future release, the default value for `weights_only` will be flipped to `True`. This limits the functions that could be executed during unpickling. Arbitrary objects will no longer be allowed to be loaded via this mode unless they are explicitly allowlisted by the user via `torch.serialization.add_safe_globals`. We recommend you start setting `weights_only=True` for any use case where you don't have full control of the loaded file. Please open an issue on GitHub for any issues related to this experimental feature.\n",
      "  checkpoint = torch.load(fp, map_location=device)\n"
     ]
    }
   ],
   "source": [
    "from main import split_transcript_into_clips, get_transcript_from_audio\n",
    "\n",
    "audio_file = \"videos/index_arb.mp3\"\n",
    "transcript = get_transcript_from_audio(audio_file)"
   ]
  },
  {
   "cell_type": "code",
   "execution_count": 9,
   "metadata": {},
   "outputs": [],
   "source": [
    "clips = split_transcript_into_clips(transcript)"
   ]
  },
  {
   "cell_type": "code",
   "execution_count": 10,
   "metadata": {},
   "outputs": [
    {
     "data": {
      "text/plain": [
       "SegmentedClips(clips=[RawClip(start_ts=60.28, end_ts=91.92, summary='This clip introduces the concept of Index Arbitrage, explaining that it is a market-neutral trading strategy aimed at profiting from the price discrepancies between index futures and the fair value of the underlying index.'), RawClip(start_ts=177.3, end_ts=203.92, summary='In this segment, the speaker discusses the theoretical aspects of Index Arbitrage with a practical example using the S&P 500 index and how to identify overpriced and underpriced assets to generate profit.'), RawClip(start_ts=346.14, end_ts=371.82, summary='This clip covers practical concerns in Index Arbitrage such as transaction costs, borrow costs, and market impact, highlighting how these factors can affect profitability.'), RawClip(start_ts=681.0, end_ts=694.5, summary='The speaker explains the operational complexities and requirements associated with executing Index Arbitrage strategies and discusses how banks and hedge funds have different approaches to this trading strategy.'), RawClip(start_ts=1390.3, end_ts=1415.5, summary='In the final segment, the speaker provides two homework assignments related to building a monitoring system for Index Arbitrage opportunities and optimizing the selection of stocks, emphasizing the practical applications of the concepts discussed.')])"
      ]
     },
     "execution_count": 10,
     "metadata": {},
     "output_type": "execute_result"
    }
   ],
   "source": [
    "clips"
   ]
  },
  {
   "cell_type": "code",
   "execution_count": 12,
   "metadata": {},
   "outputs": [
    {
     "ename": "ImportError",
     "evalue": "cannot import name 'edit_clips' from 'main' (/home/ruizeli/dev/clipit/main.py)",
     "output_type": "error",
     "traceback": [
      "\u001b[0;31m---------------------------------------------------------------------------\u001b[0m",
      "\u001b[0;31mImportError\u001b[0m                               Traceback (most recent call last)",
      "Cell \u001b[0;32mIn[12], line 1\u001b[0m\n\u001b[0;32m----> 1\u001b[0m \u001b[38;5;28;01mfrom\u001b[39;00m\u001b[38;5;250m \u001b[39m\u001b[38;5;21;01mmain\u001b[39;00m\u001b[38;5;250m \u001b[39m\u001b[38;5;28;01mimport\u001b[39;00m edit_clips\n\u001b[1;32m      3\u001b[0m video_path \u001b[38;5;241m=\u001b[39m \u001b[38;5;124m\"\u001b[39m\u001b[38;5;124mvideos/index_arb.mov\u001b[39m\u001b[38;5;124m\"\u001b[39m\n\u001b[1;32m      4\u001b[0m edit_clips(video_path, clips)\n",
      "\u001b[0;31mImportError\u001b[0m: cannot import name 'edit_clips' from 'main' (/home/ruizeli/dev/clipit/main.py)"
     ]
    }
   ],
   "source": [
    "from main import edit_clips\n",
    "\n",
    "video_path = \"videos/index_arb.mov\"\n",
    "edit_clips(video_path, clips)"
   ]
  },
  {
   "cell_type": "code",
   "execution_count": null,
   "metadata": {},
   "outputs": [],
   "source": [
    "raise NotImplementedError"
   ]
  },
  {
   "cell_type": "code",
   "execution_count": null,
   "metadata": {},
   "outputs": [],
   "source": [
    "import whisper_timestamped as whisper\n",
    "import json\n",
    "import torch\n",
    "\n",
    "device = torch.device(\"cuda\" if torch.cuda.is_available() else \"cpu\")\n",
    "\n",
    "audio = whisper.load_audio(\"videos/index_arb.mp3\")\n",
    "\n",
    "model = whisper.load_model(\"large-v3\", device=device)\n",
    "\n",
    "result = whisper.transcribe(model, audio)\n",
    "\n",
    "print(json.dumps(result, indent=2, ensure_ascii=False))"
   ]
  },
  {
   "cell_type": "code",
   "execution_count": null,
   "metadata": {},
   "outputs": [],
   "source": [
    "import whisper\n",
    "\n",
    "whisper.available_models()"
   ]
  },
  {
   "cell_type": "code",
   "execution_count": null,
   "metadata": {},
   "outputs": [],
   "source": [
    "model = whisper.load_model(\"large-v3-turbo\", device=\"cuda\")\n",
    "transcript = model.transcribe(word_timestamps=True, audio=\"videos/index_arb.mp3\")\n",
    "for segment in transcript[\"segments\"]:\n",
    "    print(\n",
    "        \"\".join(\n",
    "            f\"{word['word']}[{word['start']}/{word['end']}]\"\n",
    "            for word in segment[\"words\"]\n",
    "        )\n",
    "    )"
   ]
  },
  {
   "cell_type": "code",
   "execution_count": null,
   "metadata": {},
   "outputs": [],
   "source": [
    "transcript.keys()"
   ]
  },
  {
   "cell_type": "code",
   "execution_count": 18,
   "metadata": {},
   "outputs": [],
   "source": [
    "transcript[\"segments\"][0][\"text\"]\n",
    "# write the segments to a file with format\n",
    "outfile = \"output/turbo_transcription.txt\"\n",
    "\n",
    "with open(outfile, \"w\", encoding=\"utf-8\") as f:\n",
    "    # Save the text\n",
    "    f.write(transcript[\"text\"])\n",
    "    f.write(\"\\n\\n# Timestamps:\\n\")\n",
    "    # Save the chunks with timestamps\n",
    "    for chunk in transcript[\"segments\"]:\n",
    "        f.write(f\"[{chunk['start']}s -> {chunk['end']}s] {chunk['text']}\\n\")"
   ]
  },
  {
   "cell_type": "code",
   "execution_count": null,
   "metadata": {},
   "outputs": [],
   "source": []
  }
 ],
 "metadata": {
  "kernelspec": {
   "display_name": ".venv",
   "language": "python",
   "name": "python3"
  },
  "language_info": {
   "codemirror_mode": {
    "name": "ipython",
    "version": 3
   },
   "file_extension": ".py",
   "mimetype": "text/x-python",
   "name": "python",
   "nbconvert_exporter": "python",
   "pygments_lexer": "ipython3",
   "version": "3.9.20"
  }
 },
 "nbformat": 4,
 "nbformat_minor": 2
}
